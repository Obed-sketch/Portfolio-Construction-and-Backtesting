{
 "cells": [
  {
   "cell_type": "markdown",
   "id": "superb-maximum",
   "metadata": {},
   "source": [
    "# Demo Portfolio Construction and Backtest | "
   ]
  },
  {
   "cell_type": "markdown",
   "id": "accepted-laser",
   "metadata": {},
   "source": []
  },
  {
   "cell_type": "markdown",
   "id": "entire-central",
   "metadata": {},
   "source": [
    "This file will include the codes for backtesting a trading strategy using technical signals. I will use the two signals developed in *Demo Quantitative Stock Selection Model.ipynb* in this demo. The signals have been stored in the files \"classdata/Signal1.csv\" and \"classdata/Signal2.csv\"."
   ]
  },
  {
   "cell_type": "code",
   "execution_count": 1,
   "id": "spiritual-pencil",
   "metadata": {},
   "outputs": [
    {
     "data": {
      "text/html": [
       "<div>\n",
       "<style scoped>\n",
       "    .dataframe tbody tr th:only-of-type {\n",
       "        vertical-align: middle;\n",
       "    }\n",
       "\n",
       "    .dataframe tbody tr th {\n",
       "        vertical-align: top;\n",
       "    }\n",
       "\n",
       "    .dataframe thead th {\n",
       "        text-align: right;\n",
       "    }\n",
       "</style>\n",
       "<table border=\"1\" class=\"dataframe\">\n",
       "  <thead>\n",
       "    <tr style=\"text-align: right;\">\n",
       "      <th></th>\n",
       "      <th>LPERMNO</th>\n",
       "      <th>datadate</th>\n",
       "      <th>Date</th>\n",
       "      <th>Signal</th>\n",
       "    </tr>\n",
       "  </thead>\n",
       "  <tbody>\n",
       "    <tr>\n",
       "      <th>0</th>\n",
       "      <td>10001</td>\n",
       "      <td>2001-06-30</td>\n",
       "      <td>200112</td>\n",
       "      <td>1.211817</td>\n",
       "    </tr>\n",
       "    <tr>\n",
       "      <th>1</th>\n",
       "      <td>10001</td>\n",
       "      <td>2001-06-30</td>\n",
       "      <td>200203</td>\n",
       "      <td>1.211817</td>\n",
       "    </tr>\n",
       "    <tr>\n",
       "      <th>2</th>\n",
       "      <td>10001</td>\n",
       "      <td>2001-06-30</td>\n",
       "      <td>200206</td>\n",
       "      <td>1.211817</td>\n",
       "    </tr>\n",
       "    <tr>\n",
       "      <th>3</th>\n",
       "      <td>10001</td>\n",
       "      <td>2001-06-30</td>\n",
       "      <td>200209</td>\n",
       "      <td>1.211817</td>\n",
       "    </tr>\n",
       "    <tr>\n",
       "      <th>4</th>\n",
       "      <td>10001</td>\n",
       "      <td>2002-06-30</td>\n",
       "      <td>200212</td>\n",
       "      <td>0.928078</td>\n",
       "    </tr>\n",
       "  </tbody>\n",
       "</table>\n",
       "</div>"
      ],
      "text/plain": [
       "   LPERMNO   datadate    Date    Signal\n",
       "0    10001 2001-06-30  200112  1.211817\n",
       "1    10001 2001-06-30  200203  1.211817\n",
       "2    10001 2001-06-30  200206  1.211817\n",
       "3    10001 2001-06-30  200209  1.211817\n",
       "4    10001 2002-06-30  200212  0.928078"
      ]
     },
     "execution_count": 1,
     "metadata": {},
     "output_type": "execute_result"
    }
   ],
   "source": [
    "import pandas as pd\n",
    "import numpy as np\n",
    "df1 = pd.read_csv('classdata/Signal1.csv')\n",
    "df1['datadate']=pd.to_datetime(df1['datadate'],format=\"%Y-%m-%d\")\n",
    "df1.sort_values(by=['LPERMNO', 'datadate'], inplace=True)\n",
    "df1.reset_index(drop=True, inplace=True)\n",
    "df1.head()"
   ]
  },
  {
   "cell_type": "code",
   "execution_count": 2,
   "id": "revised-edmonton",
   "metadata": {},
   "outputs": [
    {
     "data": {
      "text/html": [
       "<div>\n",
       "<style scoped>\n",
       "    .dataframe tbody tr th:only-of-type {\n",
       "        vertical-align: middle;\n",
       "    }\n",
       "\n",
       "    .dataframe tbody tr th {\n",
       "        vertical-align: top;\n",
       "    }\n",
       "\n",
       "    .dataframe thead th {\n",
       "        text-align: right;\n",
       "    }\n",
       "</style>\n",
       "<table border=\"1\" class=\"dataframe\">\n",
       "  <thead>\n",
       "    <tr style=\"text-align: right;\">\n",
       "      <th></th>\n",
       "      <th>PERMNO</th>\n",
       "      <th>STATPERS</th>\n",
       "      <th>Date</th>\n",
       "      <th>Signal</th>\n",
       "    </tr>\n",
       "  </thead>\n",
       "  <tbody>\n",
       "    <tr>\n",
       "      <th>0</th>\n",
       "      <td>10002</td>\n",
       "      <td>2006-06-15</td>\n",
       "      <td>200606</td>\n",
       "      <td>0.003751</td>\n",
       "    </tr>\n",
       "    <tr>\n",
       "      <th>1</th>\n",
       "      <td>10002</td>\n",
       "      <td>2006-09-14</td>\n",
       "      <td>200609</td>\n",
       "      <td>0.001487</td>\n",
       "    </tr>\n",
       "    <tr>\n",
       "      <th>2</th>\n",
       "      <td>10002</td>\n",
       "      <td>2006-12-14</td>\n",
       "      <td>200612</td>\n",
       "      <td>0.000802</td>\n",
       "    </tr>\n",
       "    <tr>\n",
       "      <th>3</th>\n",
       "      <td>10002</td>\n",
       "      <td>2007-03-15</td>\n",
       "      <td>200703</td>\n",
       "      <td>0.002963</td>\n",
       "    </tr>\n",
       "    <tr>\n",
       "      <th>4</th>\n",
       "      <td>10002</td>\n",
       "      <td>2007-06-14</td>\n",
       "      <td>200706</td>\n",
       "      <td>0.003980</td>\n",
       "    </tr>\n",
       "  </tbody>\n",
       "</table>\n",
       "</div>"
      ],
      "text/plain": [
       "   PERMNO   STATPERS    Date    Signal\n",
       "0   10002 2006-06-15  200606  0.003751\n",
       "1   10002 2006-09-14  200609  0.001487\n",
       "2   10002 2006-12-14  200612  0.000802\n",
       "3   10002 2007-03-15  200703  0.002963\n",
       "4   10002 2007-06-14  200706  0.003980"
      ]
     },
     "execution_count": 2,
     "metadata": {},
     "output_type": "execute_result"
    }
   ],
   "source": [
    "df2 = pd.read_csv('classdata/Signal2.csv')\n",
    "df2['STATPERS']=pd.to_datetime(df2['STATPERS'],format=\"%Y-%m-%d\")\n",
    "df2.sort_values(by=['PERMNO', 'STATPERS'], inplace=True)\n",
    "df2.reset_index(drop=True, inplace=True)\n",
    "df2.head()"
   ]
  },
  {
   "cell_type": "code",
   "execution_count": 3,
   "id": "minus-pittsburgh",
   "metadata": {},
   "outputs": [
    {
     "data": {
      "text/html": [
       "<div>\n",
       "<style scoped>\n",
       "    .dataframe tbody tr th:only-of-type {\n",
       "        vertical-align: middle;\n",
       "    }\n",
       "\n",
       "    .dataframe tbody tr th {\n",
       "        vertical-align: top;\n",
       "    }\n",
       "\n",
       "    .dataframe thead th {\n",
       "        text-align: right;\n",
       "    }\n",
       "</style>\n",
       "<table border=\"1\" class=\"dataframe\">\n",
       "  <thead>\n",
       "    <tr style=\"text-align: right;\">\n",
       "      <th></th>\n",
       "      <th>permno</th>\n",
       "      <th>yyyymm</th>\n",
       "      <th>prc</th>\n",
       "      <th>fret1</th>\n",
       "    </tr>\n",
       "  </thead>\n",
       "  <tbody>\n",
       "    <tr>\n",
       "      <th>0</th>\n",
       "      <td>10000</td>\n",
       "      <td>198603</td>\n",
       "      <td>4.43750</td>\n",
       "      <td>-0.302817</td>\n",
       "    </tr>\n",
       "    <tr>\n",
       "      <th>1</th>\n",
       "      <td>10000</td>\n",
       "      <td>198606</td>\n",
       "      <td>3.09375</td>\n",
       "      <td>-0.666667</td>\n",
       "    </tr>\n",
       "    <tr>\n",
       "      <th>2</th>\n",
       "      <td>10000</td>\n",
       "      <td>198609</td>\n",
       "      <td>1.03125</td>\n",
       "      <td>-0.500000</td>\n",
       "    </tr>\n",
       "    <tr>\n",
       "      <th>3</th>\n",
       "      <td>10000</td>\n",
       "      <td>198612</td>\n",
       "      <td>0.51563</td>\n",
       "      <td>-0.515152</td>\n",
       "    </tr>\n",
       "    <tr>\n",
       "      <th>4</th>\n",
       "      <td>10000</td>\n",
       "      <td>198703</td>\n",
       "      <td>0.25000</td>\n",
       "      <td>-0.125000</td>\n",
       "    </tr>\n",
       "  </tbody>\n",
       "</table>\n",
       "</div>"
      ],
      "text/plain": [
       "   permno  yyyymm      prc     fret1\n",
       "0   10000  198603  4.43750 -0.302817\n",
       "1   10000  198606  3.09375 -0.666667\n",
       "2   10000  198609  1.03125 -0.500000\n",
       "3   10000  198612  0.51563 -0.515152\n",
       "4   10000  198703  0.25000 -0.125000"
      ]
     },
     "execution_count": 3,
     "metadata": {},
     "output_type": "execute_result"
    }
   ],
   "source": [
    "df3 = pd.read_csv('classdata/return.csv')\n",
    "df3.sort_values(by=['permno', 'yyyymm'], inplace=True)\n",
    "df3.reset_index(drop=True, inplace=True)\n",
    "df3.head()"
   ]
  },
  {
   "cell_type": "markdown",
   "id": "grateful-playing",
   "metadata": {},
   "source": [
    "## Generate Keys and Merge Data Frames for Signal 1"
   ]
  },
  {
   "cell_type": "markdown",
   "id": "appropriate-bookmark",
   "metadata": {},
   "source": [
    "We generate a column of keys which is \"PERMONDate\", for example, 10002200606. Since, PERMNO and Date are integers in all dataframes, we can just let key = PERMON*100000+Date."
   ]
  },
  {
   "cell_type": "code",
   "execution_count": 4,
   "id": "extensive-ribbon",
   "metadata": {},
   "outputs": [],
   "source": [
    "df1[\"key\"]=df1[\"LPERMNO\"]*1000000+df1[\"Date\"]\n",
    "df2[\"key\"]=df2[\"PERMNO\"]*1000000+df2[\"Date\"]\n",
    "df3[\"key\"]=df3[\"permno\"]*1000000+df3[\"yyyymm\"]"
   ]
  },
  {
   "cell_type": "markdown",
   "id": "legitimate-carnival",
   "metadata": {},
   "source": [
    "Then we merge data frames using keys into one,  drop NaNs, and sort the new data frame. We will only use Signal 1 in backtesting first. "
   ]
  },
  {
   "cell_type": "code",
   "execution_count": 5,
   "id": "running-letters",
   "metadata": {},
   "outputs": [
    {
     "data": {
      "text/html": [
       "<div>\n",
       "<style scoped>\n",
       "    .dataframe tbody tr th:only-of-type {\n",
       "        vertical-align: middle;\n",
       "    }\n",
       "\n",
       "    .dataframe tbody tr th {\n",
       "        vertical-align: top;\n",
       "    }\n",
       "\n",
       "    .dataframe thead th {\n",
       "        text-align: right;\n",
       "    }\n",
       "</style>\n",
       "<table border=\"1\" class=\"dataframe\">\n",
       "  <thead>\n",
       "    <tr style=\"text-align: right;\">\n",
       "      <th></th>\n",
       "      <th>key</th>\n",
       "      <th>LPERMNO</th>\n",
       "      <th>Date</th>\n",
       "      <th>Signal</th>\n",
       "      <th>prc</th>\n",
       "      <th>fret1</th>\n",
       "    </tr>\n",
       "  </thead>\n",
       "  <tbody>\n",
       "    <tr>\n",
       "      <th>0</th>\n",
       "      <td>10001200112</td>\n",
       "      <td>10001</td>\n",
       "      <td>200112</td>\n",
       "      <td>1.211817</td>\n",
       "      <td>11.450</td>\n",
       "      <td>-0.080349</td>\n",
       "    </tr>\n",
       "    <tr>\n",
       "      <th>1</th>\n",
       "      <td>10001200203</td>\n",
       "      <td>10001</td>\n",
       "      <td>200203</td>\n",
       "      <td>1.211817</td>\n",
       "      <td>10.400</td>\n",
       "      <td>-0.052404</td>\n",
       "    </tr>\n",
       "    <tr>\n",
       "      <th>2</th>\n",
       "      <td>10001200206</td>\n",
       "      <td>10001</td>\n",
       "      <td>200206</td>\n",
       "      <td>1.211817</td>\n",
       "      <td>9.720</td>\n",
       "      <td>-0.085905</td>\n",
       "    </tr>\n",
       "    <tr>\n",
       "      <th>3</th>\n",
       "      <td>10001200209</td>\n",
       "      <td>10001</td>\n",
       "      <td>200209</td>\n",
       "      <td>1.211817</td>\n",
       "      <td>8.750</td>\n",
       "      <td>-0.144457</td>\n",
       "    </tr>\n",
       "    <tr>\n",
       "      <th>4</th>\n",
       "      <td>10001200212</td>\n",
       "      <td>10001</td>\n",
       "      <td>200212</td>\n",
       "      <td>0.928078</td>\n",
       "      <td>7.351</td>\n",
       "      <td>0.059040</td>\n",
       "    </tr>\n",
       "  </tbody>\n",
       "</table>\n",
       "</div>"
      ],
      "text/plain": [
       "           key  LPERMNO    Date    Signal     prc     fret1\n",
       "0  10001200112    10001  200112  1.211817  11.450 -0.080349\n",
       "1  10001200203    10001  200203  1.211817  10.400 -0.052404\n",
       "2  10001200206    10001  200206  1.211817   9.720 -0.085905\n",
       "3  10001200209    10001  200209  1.211817   8.750 -0.144457\n",
       "4  10001200212    10001  200212  0.928078   7.351  0.059040"
      ]
     },
     "execution_count": 5,
     "metadata": {},
     "output_type": "execute_result"
    }
   ],
   "source": [
    "df=pd.merge(df1[[\"key\",\"LPERMNO\",\"Date\",\"Signal\"]],df3[[\"key\",\"prc\",\"fret1\"]],on=\"key\")\n",
    "df.dropna(how=\"any\",inplace=True)\n",
    "df.sort_values(by=['LPERMNO', 'Date'], inplace=True)\n",
    "df.reset_index(drop=True, inplace=True)\n",
    "df.head()"
   ]
  },
  {
   "cell_type": "markdown",
   "id": "developed-verse",
   "metadata": {},
   "source": [
    "## Backtesting for Signal 1"
   ]
  },
  {
   "cell_type": "markdown",
   "id": "twenty-raleigh",
   "metadata": {},
   "source": [
    "We then implement the trading strategy and generat the returns of the equally weighted long-short portfolio."
   ]
  },
  {
   "cell_type": "code",
   "execution_count": 6,
   "id": "assigned-witness",
   "metadata": {},
   "outputs": [
    {
     "data": {
      "text/html": [
       "<div>\n",
       "<style scoped>\n",
       "    .dataframe tbody tr th:only-of-type {\n",
       "        vertical-align: middle;\n",
       "    }\n",
       "\n",
       "    .dataframe tbody tr th {\n",
       "        vertical-align: top;\n",
       "    }\n",
       "\n",
       "    .dataframe thead th {\n",
       "        text-align: right;\n",
       "    }\n",
       "</style>\n",
       "<table border=\"1\" class=\"dataframe\">\n",
       "  <thead>\n",
       "    <tr style=\"text-align: right;\">\n",
       "      <th></th>\n",
       "      <th>Date</th>\n",
       "      <th>LongReturn</th>\n",
       "      <th>ShortReturn</th>\n",
       "      <th>QuarterlyReturn</th>\n",
       "      <th>Benchmark</th>\n",
       "    </tr>\n",
       "  </thead>\n",
       "  <tbody>\n",
       "    <tr>\n",
       "      <th>0</th>\n",
       "      <td>200109</td>\n",
       "      <td>0.326346</td>\n",
       "      <td>-0.420888</td>\n",
       "      <td>-0.094542</td>\n",
       "      <td>-0.160711</td>\n",
       "    </tr>\n",
       "    <tr>\n",
       "      <th>1</th>\n",
       "      <td>200112</td>\n",
       "      <td>-0.025642</td>\n",
       "      <td>0.103923</td>\n",
       "      <td>0.078281</td>\n",
       "      <td>0.128628</td>\n",
       "    </tr>\n",
       "    <tr>\n",
       "      <th>2</th>\n",
       "      <td>200203</td>\n",
       "      <td>-0.203986</td>\n",
       "      <td>0.285222</td>\n",
       "      <td>0.081236</td>\n",
       "      <td>0.005711</td>\n",
       "    </tr>\n",
       "    <tr>\n",
       "      <th>3</th>\n",
       "      <td>200206</td>\n",
       "      <td>-0.266991</td>\n",
       "      <td>0.259555</td>\n",
       "      <td>-0.007436</td>\n",
       "      <td>-0.125661</td>\n",
       "    </tr>\n",
       "    <tr>\n",
       "      <th>4</th>\n",
       "      <td>200209</td>\n",
       "      <td>0.384111</td>\n",
       "      <td>-0.100511</td>\n",
       "      <td>0.283601</td>\n",
       "      <td>-0.166367</td>\n",
       "    </tr>\n",
       "  </tbody>\n",
       "</table>\n",
       "</div>"
      ],
      "text/plain": [
       "     Date  LongReturn  ShortReturn  QuarterlyReturn  Benchmark\n",
       "0  200109    0.326346    -0.420888        -0.094542  -0.160711\n",
       "1  200112   -0.025642     0.103923         0.078281   0.128628\n",
       "2  200203   -0.203986     0.285222         0.081236   0.005711\n",
       "3  200206   -0.266991     0.259555        -0.007436  -0.125661\n",
       "4  200209    0.384111    -0.100511         0.283601  -0.166367"
      ]
     },
     "execution_count": 6,
     "metadata": {},
     "output_type": "execute_result"
    }
   ],
   "source": [
    "import numpy as np\n",
    "dfbenchmark=pd.read_csv('classdata/benchmark.csv')\n",
    "\n",
    "benchmark=[]\n",
    "quarterlist=[]\n",
    "quarterlyreturn=[]\n",
    "longreturn=[]\n",
    "shortreturn=[]\n",
    "for quarter in np.sort(df.Date.unique()):\n",
    "    dftemp = df[df.Date==quarter].copy()   #Get data for the same quarter and save it in dftemp\n",
    "    if len(dftemp)>=200:                   #Only continue if there are more than 200 stocks. \n",
    "        quarterlist.append(quarter)        #Get quarter ID\n",
    "        benchmark.append(dfbenchmark[dfbenchmark.yyyymm==quarter].benchmark.iloc[0])#Get benchmark\n",
    "        dftemp.sort_values(by='Signal', ascending=True, inplace=True)  #Sort by Signal 1\n",
    "        #Below, we compute the returns of equally weighted long-short portfolio.\n",
    "        longreturn.append(dftemp[\"fret1\"][0:100].mean())\n",
    "        shortreturn.append(-dftemp[\"fret1\"][-100:].mean())        \n",
    "        quarterlyreturn.append(dftemp[\"fret1\"][0:100].mean()-dftemp[\"fret1\"][-100:].mean())\n",
    "\n",
    "#Collect the results and put them into a data frame\n",
    "dfresult=pd.DataFrame(zip(quarterlist,longreturn,shortreturn,quarterlyreturn,benchmark),\n",
    "                        columns=[\"Date\",\"LongReturn\",\"ShortReturn\",\"QuarterlyReturn\",\"Benchmark\"])\n",
    "dfresult.head()"
   ]
  },
  {
   "cell_type": "markdown",
   "id": "utility-louisville",
   "metadata": {},
   "source": [
    "Finally, we generate the performance metrics."
   ]
  },
  {
   "cell_type": "code",
   "execution_count": 7,
   "id": "tribal-bryan",
   "metadata": {},
   "outputs": [],
   "source": [
    "dfresult[\"ExcessReturn\"]=dfresult.QuarterlyReturn"
   ]
  },
  {
   "cell_type": "code",
   "execution_count": 8,
   "id": "southwest-exercise",
   "metadata": {},
   "outputs": [
    {
     "name": "stdout",
     "output_type": "stream",
     "text": [
      "0.02711915418358943\n",
      "2.306673866828156\n"
     ]
    }
   ],
   "source": [
    "import math\n",
    "#Average ExcessReturn\n",
    "print(dfresult.ExcessReturn.mean())\n",
    "#t-statistics \n",
    "print(dfresult.ExcessReturn.mean()/dfresult.ExcessReturn.std()*math.sqrt(len(dfresult)))"
   ]
  },
  {
   "cell_type": "code",
   "execution_count": 9,
   "id": "approximate-playback",
   "metadata": {},
   "outputs": [
    {
     "name": "stdout",
     "output_type": "stream",
     "text": [
      "0.26997575558090187\n"
     ]
    }
   ],
   "source": [
    "#Informatin ratio\n",
    "print(dfresult.ExcessReturn.mean()/dfresult.ExcessReturn.std())"
   ]
  },
  {
   "cell_type": "markdown",
   "id": "prescribed-immigration",
   "metadata": {},
   "source": [
    "## Generate Keys and Merge Data Frames for Signal 2"
   ]
  },
  {
   "cell_type": "code",
   "execution_count": 10,
   "id": "toxic-addiction",
   "metadata": {},
   "outputs": [
    {
     "data": {
      "text/html": [
       "<div>\n",
       "<style scoped>\n",
       "    .dataframe tbody tr th:only-of-type {\n",
       "        vertical-align: middle;\n",
       "    }\n",
       "\n",
       "    .dataframe tbody tr th {\n",
       "        vertical-align: top;\n",
       "    }\n",
       "\n",
       "    .dataframe thead th {\n",
       "        text-align: right;\n",
       "    }\n",
       "</style>\n",
       "<table border=\"1\" class=\"dataframe\">\n",
       "  <thead>\n",
       "    <tr style=\"text-align: right;\">\n",
       "      <th></th>\n",
       "      <th>key</th>\n",
       "      <th>PERMNO</th>\n",
       "      <th>Date</th>\n",
       "      <th>Signal</th>\n",
       "      <th>prc</th>\n",
       "      <th>fret1</th>\n",
       "    </tr>\n",
       "  </thead>\n",
       "  <tbody>\n",
       "    <tr>\n",
       "      <th>0</th>\n",
       "      <td>10002200606</td>\n",
       "      <td>10002</td>\n",
       "      <td>200606</td>\n",
       "      <td>0.003751</td>\n",
       "      <td>23.47</td>\n",
       "      <td>0.193865</td>\n",
       "    </tr>\n",
       "    <tr>\n",
       "      <th>1</th>\n",
       "      <td>10002200609</td>\n",
       "      <td>10002</td>\n",
       "      <td>200609</td>\n",
       "      <td>0.001487</td>\n",
       "      <td>27.89</td>\n",
       "      <td>-0.080315</td>\n",
       "    </tr>\n",
       "    <tr>\n",
       "      <th>2</th>\n",
       "      <td>10002200612</td>\n",
       "      <td>10002</td>\n",
       "      <td>200612</td>\n",
       "      <td>0.000802</td>\n",
       "      <td>25.52</td>\n",
       "      <td>-0.165752</td>\n",
       "    </tr>\n",
       "    <tr>\n",
       "      <th>3</th>\n",
       "      <td>10002200703</td>\n",
       "      <td>10002</td>\n",
       "      <td>200703</td>\n",
       "      <td>0.002963</td>\n",
       "      <td>21.16</td>\n",
       "      <td>-0.001418</td>\n",
       "    </tr>\n",
       "    <tr>\n",
       "      <th>4</th>\n",
       "      <td>10002200706</td>\n",
       "      <td>10002</td>\n",
       "      <td>200706</td>\n",
       "      <td>0.003980</td>\n",
       "      <td>21.00</td>\n",
       "      <td>-0.234286</td>\n",
       "    </tr>\n",
       "  </tbody>\n",
       "</table>\n",
       "</div>"
      ],
      "text/plain": [
       "           key  PERMNO    Date    Signal    prc     fret1\n",
       "0  10002200606   10002  200606  0.003751  23.47  0.193865\n",
       "1  10002200609   10002  200609  0.001487  27.89 -0.080315\n",
       "2  10002200612   10002  200612  0.000802  25.52 -0.165752\n",
       "3  10002200703   10002  200703  0.002963  21.16 -0.001418\n",
       "4  10002200706   10002  200706  0.003980  21.00 -0.234286"
      ]
     },
     "execution_count": 10,
     "metadata": {},
     "output_type": "execute_result"
    }
   ],
   "source": [
    "df=pd.merge(df2[[\"key\",\"PERMNO\",\"Date\",\"Signal\"]],df3[[\"key\",\"prc\",\"fret1\"]],on=\"key\")\n",
    "df.dropna(how=\"any\",inplace=True)\n",
    "df.sort_values(by=['PERMNO', 'Date'], inplace=True)\n",
    "df.reset_index(drop=True, inplace=True)\n",
    "df.head()"
   ]
  },
  {
   "cell_type": "markdown",
   "id": "competitive-preservation",
   "metadata": {},
   "source": [
    "## Backtesting for Signal 2"
   ]
  },
  {
   "cell_type": "markdown",
   "id": "secure-photograph",
   "metadata": {},
   "source": [
    "Almost similar to the procedure done with Signal 1. "
   ]
  },
  {
   "cell_type": "code",
   "execution_count": 11,
   "id": "bright-stretch",
   "metadata": {},
   "outputs": [
    {
     "data": {
      "text/html": [
       "<div>\n",
       "<style scoped>\n",
       "    .dataframe tbody tr th:only-of-type {\n",
       "        vertical-align: middle;\n",
       "    }\n",
       "\n",
       "    .dataframe tbody tr th {\n",
       "        vertical-align: top;\n",
       "    }\n",
       "\n",
       "    .dataframe thead th {\n",
       "        text-align: right;\n",
       "    }\n",
       "</style>\n",
       "<table border=\"1\" class=\"dataframe\">\n",
       "  <thead>\n",
       "    <tr style=\"text-align: right;\">\n",
       "      <th></th>\n",
       "      <th>Date</th>\n",
       "      <th>LongReturn</th>\n",
       "      <th>ShortReturn</th>\n",
       "      <th>QuarterlyReturn</th>\n",
       "      <th>Benchmark</th>\n",
       "    </tr>\n",
       "  </thead>\n",
       "  <tbody>\n",
       "    <tr>\n",
       "      <th>0</th>\n",
       "      <td>200003</td>\n",
       "      <td>-0.038074</td>\n",
       "      <td>0.242704</td>\n",
       "      <td>0.204630</td>\n",
       "      <td>0.043890</td>\n",
       "    </tr>\n",
       "    <tr>\n",
       "      <th>1</th>\n",
       "      <td>200006</td>\n",
       "      <td>0.066039</td>\n",
       "      <td>0.091381</td>\n",
       "      <td>0.157420</td>\n",
       "      <td>-0.049445</td>\n",
       "    </tr>\n",
       "    <tr>\n",
       "      <th>2</th>\n",
       "      <td>200009</td>\n",
       "      <td>-0.185585</td>\n",
       "      <td>0.438360</td>\n",
       "      <td>0.252775</td>\n",
       "      <td>0.001961</td>\n",
       "    </tr>\n",
       "    <tr>\n",
       "      <th>3</th>\n",
       "      <td>200012</td>\n",
       "      <td>-0.078376</td>\n",
       "      <td>0.005539</td>\n",
       "      <td>-0.072837</td>\n",
       "      <td>-0.106433</td>\n",
       "    </tr>\n",
       "    <tr>\n",
       "      <th>4</th>\n",
       "      <td>200103</td>\n",
       "      <td>0.119622</td>\n",
       "      <td>-0.106226</td>\n",
       "      <td>0.013396</td>\n",
       "      <td>-0.129373</td>\n",
       "    </tr>\n",
       "  </tbody>\n",
       "</table>\n",
       "</div>"
      ],
      "text/plain": [
       "     Date  LongReturn  ShortReturn  QuarterlyReturn  Benchmark\n",
       "0  200003   -0.038074     0.242704         0.204630   0.043890\n",
       "1  200006    0.066039     0.091381         0.157420  -0.049445\n",
       "2  200009   -0.185585     0.438360         0.252775   0.001961\n",
       "3  200012   -0.078376     0.005539        -0.072837  -0.106433\n",
       "4  200103    0.119622    -0.106226         0.013396  -0.129373"
      ]
     },
     "execution_count": 11,
     "metadata": {},
     "output_type": "execute_result"
    }
   ],
   "source": [
    "benchmark=[]\n",
    "quarterlist=[]\n",
    "quarterlyreturn=[]\n",
    "longreturn=[]\n",
    "shortreturn=[]\n",
    "for quarter in np.sort(df.Date.unique()):\n",
    "    dftemp = df[df.Date==quarter].copy()   #Get data for the same quarter and save it in dftemp\n",
    "    if len(dftemp)>=200:                   #Only continue if there are more than 200 stocks. \n",
    "        quarterlist.append(quarter)        #Get quarter ID\n",
    "        benchmark.append(dfbenchmark[dfbenchmark.yyyymm==quarter].benchmark.iloc[0])#Get benchmark\n",
    "        dftemp.sort_values(by='Signal', ascending=True, inplace=True)  #Sort by Signal 2\n",
    "        #Below, we compute the returns of equally weighted long-short portfolio.\n",
    "        longreturn.append(dftemp[\"fret1\"][0:100].mean())\n",
    "        shortreturn.append(-dftemp[\"fret1\"][-100:].mean())        \n",
    "        quarterlyreturn.append(dftemp[\"fret1\"][0:100].mean()-dftemp[\"fret1\"][-100:].mean())\n",
    "\n",
    "#Collect the results and put them into a data frame\n",
    "dfresult=pd.DataFrame(zip(quarterlist,longreturn,shortreturn,quarterlyreturn,benchmark),\n",
    "                        columns=[\"Date\",\"LongReturn\",\"ShortReturn\",\"QuarterlyReturn\",\"Benchmark\"])\n",
    "dfresult.head()"
   ]
  },
  {
   "cell_type": "code",
   "execution_count": 12,
   "id": "d17ed963",
   "metadata": {},
   "outputs": [],
   "source": [
    "dfresult[\"ExcessReturn\"]=dfresult.QuarterlyReturn"
   ]
  },
  {
   "cell_type": "code",
   "execution_count": 13,
   "id": "8e232b4c",
   "metadata": {},
   "outputs": [
    {
     "name": "stdout",
     "output_type": "stream",
     "text": [
      "0.023765278658459954\n",
      "1.0862978136828392\n"
     ]
    }
   ],
   "source": [
    "import math\n",
    "#Average ExcessReturn\n",
    "print(dfresult.ExcessReturn.mean())\n",
    "#t-statistics \n",
    "print(dfresult.ExcessReturn.mean()/dfresult.ExcessReturn.std()*math.sqrt(len(dfresult)))"
   ]
  },
  {
   "cell_type": "code",
   "execution_count": 14,
   "id": "8324fe73",
   "metadata": {},
   "outputs": [
    {
     "name": "stdout",
     "output_type": "stream",
     "text": [
      "0.12221805269769546\n"
     ]
    }
   ],
   "source": [
    "#Informatin ratio\n",
    "print(dfresult.ExcessReturn.mean()/dfresult.ExcessReturn.std())"
   ]
  }
 ],
 "metadata": {
  "kernelspec": {
   "display_name": "Python 3 (ipykernel)",
   "language": "python",
   "name": "python3"
  },
  "language_info": {
   "codemirror_mode": {
    "name": "ipython",
    "version": 3
   },
   "file_extension": ".py",
   "mimetype": "text/x-python",
   "name": "python",
   "nbconvert_exporter": "python",
   "pygments_lexer": "ipython3",
   "version": "3.9.1"
  }
 },
 "nbformat": 4,
 "nbformat_minor": 5
}
